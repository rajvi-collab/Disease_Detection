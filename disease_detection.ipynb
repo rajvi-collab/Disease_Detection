{
 "cells": [
  {
   "cell_type": "code",
   "execution_count": null,
   "id": "ef93f2a8",
   "metadata": {
    "is_executing": true
   },
   "outputs": [],
   "source": [
    "import seaborn as sns\n",
    "import pandas as pd\n",
    "import numpy as np\n",
    "import matplotlib.pyplot as plt\n",
    "plt.rcParams['font.family'] = 'Serif'\n",
    "plt.rcParams['font.size'] = 15\n",
    "\n",
    "# All score DataFrame\n",
    "results = pd.DataFrame([],columns=['Accuracy Score', \"Precision Score\", \"Recall Score\", \"F1 Score\"])"
   ]
  },
  {
   "cell_type": "code",
   "execution_count": null,
   "id": "bc2679be",
   "metadata": {},
   "outputs": [],
   "source": [
    "df_heart_1 = pd.read_csv(\"./datasets/heart_disease/heart_disease_dataset_1.csv\")\n",
    "df_heart_2 = pd.read_csv(\"./datasets/heart_disease/heart_disease_dataset_2.csv\")\n",
    "df_heart_3 = pd.read_csv(\"./datasets/heart_disease/heart_disease_dataset_3.csv\")\n",
    "df_heart_6 = pd.read_csv(\"./datasets/heart_disease/heart_disease_dataset_6.csv\")\n",
    "\n",
    "data_1 = pd.concat([df_heart_1, df_heart_2, df_heart_3, df_heart_6],ignore_index=True)\n",
    "# Drop the 'thal' column\n",
    "data_1.drop(['thal', 'ca', 'Unnamed: 0'], axis=1, inplace=True)\n",
    "# Rename multiple columns\n",
    "data_1.rename(columns={'cp': 'chest pain', 'trestbps': 'resting bps', 'chol': 'cholesterol', \n",
    "                       'fbs': 'fasting blood sugar', 'restecg': 'resting ecg', 'thalach': 'max heart rate',\n",
    "                       'exang': 'exercise angina', 'target': 'disease'}, inplace=True)\n",
    "\n",
    "df_heart_4 = pd.read_csv(\"./datasets/heart_disease/heart_disease_dataset_4.csv\")\n",
    "df_heart_5 = pd.read_csv(\"./datasets/heart_disease/heart_disease_dataset_5.csv\")\n",
    "df_heart_5.rename(columns={'resting bp s': 'resting bps'}, inplace=True)\n",
    "\n",
    "data_2 = pd.concat([df_heart_4, df_heart_5],ignore_index=True)\n",
    "data_2.drop(['Unnamed: 0'], axis=1, inplace=True)\n",
    "data_2.rename(columns={'ST slope': 'slope', 'target': 'disease', 'chest pain type': 'chest pain'}, inplace=True)\n",
    "\n",
    "df_heart_di = pd.concat([data_1, data_2],ignore_index=True)\n",
    "\n",
    "mapping = {0: 'non-heart disease', 1: 'heart disease'}\n",
    "df_heart_di['disease'] = df_heart_di['disease'].map(mapping)\n",
    "df_heart_di\n"
   ]
  },
  {
   "cell_type": "code",
   "execution_count": null,
   "id": "0c5e057b",
   "metadata": {},
   "outputs": [],
   "source": [
    "df_diabetes_1 = pd.read_csv(\"./datasets/diabetes/diabetes_dataset_1.csv\")\n",
    "df_diabetes_2 = pd.read_csv(\"./datasets/diabetes/diabetes_dataset_2.csv\")\n",
    "df_diabetes_3 = pd.read_csv(\"./datasets/diabetes/diabetes_dataset_3.csv\")\n",
    "df_diabetes_4 = pd.read_csv(\"./datasets/diabetes/diabetes_dataset_4.csv\")\n",
    "df_diabetes_5 = pd.read_csv(\"./datasets/diabetes/diabetes_dataset_5.csv\")\n",
    "df_diabetes_5 = df_diabetes_5.rename(columns={'Diagnosis': 'Outcome'}, inplace=True)\n",
    "df_diabetes = pd.concat([df_diabetes_1, df_diabetes_2, df_diabetes_3, df_diabetes_4, df_diabetes_5],ignore_index=True)\n",
    "df_diabetes.rename(columns={'Outcome': 'disease', 'Age': 'age'}, inplace=True)\n",
    "\n",
    "mapping = {0: 'non-diabetics', 1: 'diabetes'}\n",
    "df_diabetes['disease'] = df_diabetes['disease'].map(mapping)\n",
    "df_diabetes"
   ]
  },
  {
   "cell_type": "code",
   "execution_count": null,
   "id": "58463f8e",
   "metadata": {},
   "outputs": [],
   "source": [
    "df_anemia_3 = pd.read_csv(\"./datasets/anemia/anemia_dataset_3.csv\")\n",
    "selected_columns = ['GENDER', 'HGB','MCV', 'MCH', 'MCHC', 'HGB_Anemia_Class'] \n",
    "df_anemia_3 = df_anemia_3[selected_columns]\n",
    "df_anemia_3.rename(columns={'GENDER': 'sex', 'HGB': 'hemoglobin', 'HGB_Anemia_Class': 'disease'}, inplace=True)\n",
    "df_anemia_3[df_anemia_3['disease'] == 1]\n",
    "\n",
    "df_anemia_1 = pd.read_csv(\"./datasets/anemia/anemia_dataset_1.csv\")\n",
    "df_anemia_2 = pd.read_csv(\"./datasets/anemia/anemia_dataset_2.csv\")\n",
    "data1_2 = pd.concat([df_anemia_1, df_anemia_2],ignore_index=True)\n",
    "data1_2.rename(columns={'Gender': 'sex', 'Hemoglobin': 'hemoglobin', 'Result': 'disease'}, inplace=True)\n",
    "\n",
    "df_anemia_4 = pd.read_csv(\"./datasets/anemia/anemia_dataset_4.csv\")\n",
    "df_anemia_4.rename(columns={'Outcome': 'disease'}, inplace=True)\n",
    "\n",
    "df_anemia_di = pd.concat([df_anemia_3, data1_2, df_anemia_4],ignore_index=True)\n",
    "\n",
    "mapping = {0: 'non-hgb-anemia', 1: 'hgb_anemia'}\n",
    "df_anemia_di['disease'] = df_anemia_di['disease'].map(mapping)\n",
    "df_anemia_di"
   ]
  },
  {
   "cell_type": "code",
   "execution_count": null,
   "id": "33ed2ea7",
   "metadata": {},
   "outputs": [],
   "source": [
    "# df_kidney_7 = pd.read_csv(\"./datasets/chronic_kidney/kidney_disease_8.csv\")\n",
    "# df_kidney_7"
   ]
  },
  {
   "cell_type": "code",
   "execution_count": null,
   "id": "a3d5dd7a",
   "metadata": {},
   "outputs": [],
   "source": [
    "data = pd.concat([df_heart_di, df_diabetes, df_anemia_di],ignore_index=True)\n",
    "data"
   ]
  },
  {
   "cell_type": "code",
   "execution_count": null,
   "id": "42659ba6",
   "metadata": {},
   "outputs": [],
   "source": [
    "# Let's find how many of each class there are in the bar chart.\n",
    "counts = data['disease'].value_counts()\n",
    "palette = sns.color_palette()\n",
    "fig, axes = plt.subplots(figsize=(10,6))\n",
    "counts.plot(kind=\"bar\", ax=axes, color=palette)\n",
    "plt.xlabel('diseases',labelpad=10)\n",
    "for container in axes.containers:\n",
    "    axes.bar_label(container)\n",
    "plt.show()"
   ]
  },
  {
   "cell_type": "code",
   "execution_count": null,
   "id": "2c1f7640",
   "metadata": {},
   "outputs": [],
   "source": [
    "\n",
    "from sklearn.ensemble import RandomForestClassifier, GradientBoostingClassifier\n",
    "from sklearn.metrics import mean_absolute_error, make_scorer, precision_score, f1_score, confusion_matrix, classification_report,accuracy_score, log_loss, mean_squared_error\n",
    "from sklearn.model_selection import train_test_split\n",
    "from sklearn.preprocessing import LabelEncoder, StandardScaler\n",
    "from sklearn.linear_model import LogisticRegression\n",
    "from sklearn.impute import SimpleImputer"
   ]
  },
  {
   "cell_type": "code",
   "execution_count": null,
   "id": "a79f5699",
   "metadata": {},
   "outputs": [],
   "source": [
    "def standardization(xtrain, xtest):\n",
    "    scaler = StandardScaler()\n",
    "    X_train_scaled = scaler.fit_transform(xtrain)\n",
    "    X_test_scaled = scaler.transform(xtest)\n",
    "    return X_train_scaled, X_test_scaled"
   ]
  },
  {
   "cell_type": "code",
   "execution_count": null,
   "id": "0ccc860d",
   "metadata": {},
   "outputs": [],
   "source": [
    "# label=LabelEncoder()\n",
    "# data['Disease']=label.fit_transform(data['Disease'])\n",
    "disease=data['disease']\n",
    "features=data.drop('disease',axis=1)\n",
    "X_train, X_test, Y_train, Y_test=train_test_split(features,disease,test_size=0.2, shuffle=True, random_state=42, stratify=disease)"
   ]
  },
  {
   "cell_type": "code",
   "execution_count": null,
   "id": "e4185d01",
   "metadata": {},
   "outputs": [],
   "source": [
    "# Create an imputer object with a chosen strategy (e.g., mean)\n",
    "imputer = SimpleImputer(strategy='mean')\n",
    "# Fit the imputer on your training data and transform it\n",
    "X_train_imputed = imputer.fit_transform(X_train)\n",
    "# Transform the test data using the imputer fitted on the training data\n",
    "X_test_imputed = imputer.transform(X_test)\n",
    "rf_classifier = RandomForestClassifier(n_estimators=100, random_state=42)\n",
    "rf_classifier.fit(X_train_imputed, Y_train)\n",
    "\n",
    "# Predict on the testing set\n",
    "y_pred = rf_classifier.predict(X_test_imputed)\n",
    "\n",
    "# Evaluate the model\n",
    "print(\"Classification Report:\\n\", classification_report(Y_test, y_pred))\n",
    "print('accuracy', accuracy_score(Y_test, y_pred))"
   ]
  },
  {
   "cell_type": "code",
   "execution_count": null,
   "id": "39fdb0cf",
   "metadata": {},
   "outputs": [],
   "source": [
    "# Get feature importances\n",
    "feature_importances = rf_classifier.feature_importances_\n",
    "\n",
    "# Sort feature importances in descending order\n",
    "sorted_indices = np.argsort(feature_importances)[::-1]\n",
    "sorted_features = X_train.columns[sorted_indices]\n",
    "sorted_importances = feature_importances[sorted_indices]\n",
    "\n",
    "# Plot feature importances\n",
    "plt.figure(figsize=(10, 6))\n",
    "plt.bar(range(len(sorted_importances)), sorted_importances, tick_label=sorted_features)\n",
    "plt.xticks(rotation=90)\n",
    "plt.xlabel('Features')\n",
    "plt.ylabel('Feature Importance')\n",
    "plt.title('Feature Importance Plot')\n",
    "plt.show()"
   ]
  },
  {
   "cell_type": "code",
   "execution_count": null,
   "id": "3071062c",
   "metadata": {},
   "outputs": [],
   "source": [
    "# importan_features = ['Mean Corpuscular Hemoglobin','White Blood Cells','Hematocrit','Red Blood Cells','HDL Cholesterol',\n",
    "                    #  'ALT','Troponin','Mean Corpuscular Hemoglobin Concentration','AST','Mean Corpuscular Volume','HbA1c','LDL Cholesterol','Cholesterol']"
   ]
  },
  {
   "cell_type": "code",
   "execution_count": null,
   "id": "5b87f6ee",
   "metadata": {},
   "outputs": [],
   "source": [
    "# results.loc['LogisticRegression Model'] = [test_accuracy, precision_test_score, recall_test_score, f1_test_score]\n",
    "# results"
   ]
  },
  {
   "cell_type": "code",
   "execution_count": null,
   "id": "5246abf4",
   "metadata": {},
   "outputs": [],
   "source": []
  }
 ],
 "metadata": {
  "kernelspec": {
   "display_name": "Python 3 (ipykernel)",
   "language": "python",
   "name": "python3"
  },
  "language_info": {
   "codemirror_mode": {
    "name": "ipython",
    "version": 3
   },
   "file_extension": ".py",
   "mimetype": "text/x-python",
   "name": "python",
   "nbconvert_exporter": "python",
   "pygments_lexer": "ipython3",
   "version": "3.11.5"
  }
 },
 "nbformat": 4,
 "nbformat_minor": 5
}
